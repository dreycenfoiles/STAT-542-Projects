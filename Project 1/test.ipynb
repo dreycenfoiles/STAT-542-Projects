{
 "cells": [
  {
   "cell_type": "code",
   "execution_count": 35,
   "metadata": {},
   "outputs": [],
   "source": [
    "import pandas as pd\n",
    "import numpy as np \n",
    "from sklearn.linear_model import LinearRegression, Lasso, Ridge\n",
    "from sklearn.model_selection import cross_validate, GridSearchCV\n",
    "from sklearn.ensemble import RandomForestRegressor\n",
    "from sklearn.preprocessing import MinMaxScaler\n",
    "import matplotlib.pyplot as plt "
    "import timeit"
   ]
  },
  {
   "cell_type": "code",
   "execution_count": 2,
   "metadata": {},
   "outputs": [],
   "source": [
    "df = pd.read_csv(\"https://liangfgithub.github.io/Data/Ames_data.csv\")\n",
    "testID = pd.read_csv(\n",
    "    'https://liangfgithub.github.io/Data/project1_testIDs.dat',delim_whitespace=' ',header=None)\n"
   ]
  },
  {
   "cell_type": "code",
   "execution_count": 3,
   "metadata": {},
   "outputs": [],
   "source": [
    "def numeric_convert(frame):\n",
    "    # We may want to normalize data as well \n",
    "    for col in frame:\n",
    "        try:\n",
    "            frame[col] = pd.to_numeric(frame[col])\n",
    "        except:\n",
    "            frame[col] = pd.factorize(frame[col])[0] + 1\n",
    "    \n",
    "    return frame\n",
    "\n",
    "def get_split(frame, index):\n",
    "\n",
    "    frame = frame.drop('Garage_Yr_Blt', axis=1)\n",
    "\n",
    "    num_rows = np.arange(len(frame))\n",
    "\n",
    "    test_index = testID.iloc[:,index]\n",
    "    train_index = np.array([i for i in num_rows if i not in test_index])\n",
    "\n",
    "    xtest = numeric_convert(frame.iloc[test_index,1:-1].copy())\n",
    "    xtrain = numeric_convert(frame.iloc[train_index,1:-1].copy())\n",
    "\n",
    "    # convert to log to get better model\n",
    "    ytest = np.log(frame.iloc[test_index,-1].copy())\n",
    "    ytrain = np.log(frame.iloc[train_index,-1].copy())\n",
    "\n",
    "    return xtrain,xtest,ytrain,ytest\n",
    "\n",
    "\n"
   ]
  },
  {
   "cell_type": "code",
   "execution_count": 4,
   "metadata": {},
   "outputs": [],
   "source": [
    "def clean_data(df, cols):\n",
    "    for col in cols:\n",
    "        df = df.drop(col, axis=1)\n",
    "    return df"
   ]
  },
  {
   "cell_type": "code",
   "execution_count": 9,
   "metadata": {},
   "outputs": [],
   "source": [
    "bad_cols = ['PID', 'Garage_Yr_Blt']\n",
    "PID = df['PID']\n",
    "# Set up data for use with scikit-learn\n",
    "frame = clean_data(df, bad_cols)\n",
    "cvsplits = []\n",
    "num_rows = np.arange(len(frame))\n",
    "for index in range(0,10):\n",
    "    test_index = testID.iloc[:,index]\n",
    "    train_index = np.array([i for i in num_rows if i not in test_index])\n",
    "    cvsplits.append((train_index, test_index.values))\n",
    "\n",
    "\n",
    "scaler = MinMaxScaler()\n",
    "\n",
    "x = numeric_convert(frame.iloc[:,:-1].copy())\n",
    "# x = scaler.fit_transform(x)\n",
    "# for c in x:\n",
    "#     x[c] = x[c] / np.max(np.abs(x[c]))\n",
    "    # x[c] = scaler.fit_transform(x[c])\n",
    "\n",
    "# convert to log to get better model\n",
    "y = np.log(frame.iloc[:,-1].copy())"
   ]
  },
  {
   "cell_type": "code",
   "execution_count": 10,
   "metadata": {},
   "outputs": [],
   "source": [
    "split_number = 0\n",
    "\n",
    "xtrain = x.values[cvsplits[split_number][0]]\n",
    "xtest = x.values[cvsplits[split_number][1]]\n",
    "\n",
    "ytrain = y.values[cvsplits[split_number][0]]\n",
    "ytest = y.values[cvsplits[split_number][1]]"
   ]
  },
  {
   "cell_type": "code",
   "execution_count": 12,
   "metadata": {},
   "outputs": [
    {
     "data": {
      "text/plain": [
       "0.16088711385483395"
      ]
     },
     "execution_count": 12,
     "metadata": {},
     "output_type": "execute_result"
    }
   ],
   "source": [
    "model = Lasso(alpha=1e-2)\n",
    "# model = LinearRegression()\n",
    "model.fit(xtrain,ytrain)\n",
    "\n",
    "pred = model.predict(xtest)\n",
    "\n",
    "np.sqrt(np.mean((pred-ytest)**2))"
   ]
  },
  {
   "cell_type": "code",
   "execution_count": 38,
   "metadata": {},
   "outputs": [],
   "source": [
    "lasso = Lasso(fit_intercept=True)\n",
    "lambda_dict = {\n",
    "    'alpha': np.linspace(1e-8,10,40)\n",
    "}\n",
    "\n",
    "lasso_cv_res = GridSearchCV(lasso, lambda_dict, cv=cvsplits, scoring='neg_root_mean_squared_error', return_train_score=True).fit(x,y)\n",
    "#for i in range(0,10):\n",
    "#    print(f'Split {i} lowest RMS, and runtime, lambda for lowest RMS: {np.min(np.abs(lasso_cv_res.cv_results_[f'split{i}_test_score']))}, )\n",
    "#np.min(np.abs(las.cv_results_['split0_test_score']))\n"
   ]
  },
  {
   "cell_type": "code",
   "execution_count": 39,
   "metadata": {},
   "outputs": [
    {
     "name": "stdout",
     "output_type": "stream",
     "text": [
      "Split 0 RMSE: 0.1548282369137897, alpha: 0.001\n",
      "Split 1 RMSE: 0.15485810809398212, alpha: 0.001\n",
      "Split 2 RMSE: 0.1715618242988684, alpha: 0.001\n",
      "Split 3 RMSE: 0.1707647256904778, alpha: 0.001\n",
      "Split 4 RMSE: 0.1607631539002154, alpha: 0.001\n",
      "Split 5 RMSE: 0.15473175705322847, alpha: 0.001\n",
      "Split 6 RMSE: 0.15486971997719592, alpha: 0.001\n",
      "Split 7 RMSE: 0.1715490085368277, alpha: 0.001\n",
      "Split 8 RMSE: 0.17072497381333218, alpha: 0.001\n",
      "Split 9 RMSE: 0.16074923096475474, alpha: 0.001\n"
     ]
    }
   ],
   "source": [
    "for i in range(0, 10):\n",
    "    score = np.abs(lasso_cv_res.cv_results_[f'split{i}_test_score'])\n",
    "    best_idx = np.where(score == np.min(score))\n",
    "    score = score[best_idx][0]\n",
    "    a = lasso_cv_res.cv_results_['param_alpha'][best_idx][0]\n",
    "    print(f'Split {i} RMSE: {score}, alpha: {a}')\n"
   ]
  },
  {
   "cell_type": "code",
   "execution_count": 39,
   "metadata": {},
   "outputs": [
    {
     "name": "stdout",
     "output_type": "stream",
     "text": [
      "Split 0 RMSE: 0.08726929709066214, runtime: 2.6933816700002353\n",
      "Split 1 RMSE: 0.08599238099053826, runtime: 2.4938211539993063\n",
      "Split 2 RMSE: 0.09693702348525582, runtime: 2.4277736519998143\n",
      "Split 3 RMSE: 0.09279581588987836, runtime: 2.5501251209998372\n",
      "Split 4 RMSE: 0.09000453552735012, runtime: 2.598317464000502\n",
      "Split 5 RMSE: 0.08570245536589788, runtime: 2.7630246449998594\n",
      "Split 6 RMSE: 0.08666167128127612, runtime: 2.5697372989998257\n",
      "Split 7 RMSE: 0.09712927530796164, runtime: 2.674808519999715\n",
      "Split 8 RMSE: 0.09275149073972601, runtime: 2.5016827449999255\n",
      "Split 9 RMSE: 0.08908419735132692, runtime: 2.6123093460000746\n"
     ]
    }
   ],
   "source": [
    "rf_rmse = []\n",
    "rf_times = []\n",
    "rf_models = []\n",
    "for i in range(0,10):\n",
    "    rf = RandomForestRegressor(criterion='squared_error')\n",
    "    start = timeit.default_timer()\n",
    "    rf.fit(x.iloc[cvsplits[i][0]], y[cvsplits[i][0]])\n",
    "    stop = timeit.default_timer()\n",
    "    yhat = rf.predict(x.iloc[cvsplits[i][1]])\n",
    "    ytest = y[cvsplits[i][1]]\n",
    "    rf_models.append(rf)\n",
    "    rf_times.append(stop - start)\n",
    "    rf_rmse.append(np.sqrt(np.mean((yhat - ytest)**2)))\n",
    "    print(f'Split {i} RMSE: {rf_rmse[-1]}, runtime: {rf_times[-1]}')"
   ]
  },
  {
   "cell_type": "code",
   "execution_count": 58,
   "metadata": {},
   "outputs": [
    {
     "data": {
      "text/plain": [
       "0       186585.847762\n",
       "1       130680.846942\n",
       "2       150112.105370\n",
       "3       225911.851034\n",
       "4       185921.887278\n",
       "            ...      \n",
       "2925    141975.141840\n",
       "2926    133927.319368\n",
       "2927    125639.275644\n",
       "2928    170067.241396\n",
       "2929    200835.722064\n",
       "Name: Sale_Price, Length: 2930, dtype: float64"
      ]
     },
     "execution_count": 58,
     "metadata": {},
     "output_type": "execute_result"
    }
   ],
   "source": [
    "rf_best = rf_models[np.where(rf_rmse == np.min(rf_rmse))[0][0]]\n",
    "yhat_best = np.exp(rf_best.predict(x))\n",
    "pd.Series(yhat_best, name='Sale_Price')"
   ]
  },
  {
   "cell_type": "code",
   "execution_count": 67,
   "metadata": {},
   "outputs": [],
   "source": [
    "pd.DataFrame(data={'PID': PID, 'Sale_Price': pd.Series(yhat_best, name='Sale_Price')}).to_csv('mysubmission2.txt', index=False)"
   ]
  }
 ],
 "metadata": {
  "kernelspec": {
   "display_name": "Python 3.9.12 ('base')",
   "language": "python",
   "name": "python3"
  },
  "language_info": {
   "codemirror_mode": {
    "name": "ipython",
    "version": 3
   },
   "file_extension": ".py",
   "mimetype": "text/x-python",
   "name": "python",
   "nbconvert_exporter": "python",
   "pygments_lexer": "ipython3",
   "version": "3.9.12"
  },
  "vscode": {
   "interpreter": {
    "hash": "b8c72de4001b98a5445d6481c29e2dc044352deff14adb37dd28600a39ce85e7"
   }
  }
 },
 "nbformat": 4,
 "nbformat_minor": 2
}
