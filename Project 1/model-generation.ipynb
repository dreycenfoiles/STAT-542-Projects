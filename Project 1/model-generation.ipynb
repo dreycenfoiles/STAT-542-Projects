{
 "cells": [
  {
   "cell_type": "code",
   "execution_count": 1,
   "metadata": {},
   "outputs": [],
   "source": [
    "import pandas as pd\n",
    "import numpy as np \n",
    "from sklearn.linear_model import LinearRegression, Lasso, Ridge\n",
    "from sklearn.model_selection import cross_validate, GridSearchCV\n",
    "from sklearn.ensemble import GradientBoostingRegressor\n",
    "from scipy.stats.mstats import winsorize\n",
    "import timeit\n",
    "import scipy"
   ]
  },
  {
   "cell_type": "code",
   "execution_count": 2,
   "metadata": {},
   "outputs": [],
   "source": [
    "df = pd.read_csv(\"https://liangfgithub.github.io/Data/Ames_data.csv\")\n",
    "testID = pd.read_csv(\n",
    "    'https://liangfgithub.github.io/Data/project1_testIDs.dat',delim_whitespace=' ',header=None)"
   ]
  },
  {
   "cell_type": "code",
   "execution_count": 195,
   "metadata": {},
   "outputs": [],
   "source": [
    "test_indices = testID.iloc[:,3]\n",
    "\n",
    "test = df.iloc[test_indices]\n",
    "train = df.drop(test_indices)\n",
    "# test = test.drop(columns=\"Sale_Price\")"
   ]
  },
  {
   "cell_type": "code",
   "execution_count": 199,
   "metadata": {},
   "outputs": [],
   "source": [
    "new = numeric_convert(train, \"LR\")"
   ]
  },
  {
   "cell_type": "code",
   "execution_count": 194,
   "metadata": {},
   "outputs": [
    {
     "data": {
      "text/plain": [
       "0.1353154971048763"
      ]
     },
     "execution_count": 194,
     "metadata": {},
     "output_type": "execute_result"
    }
   ],
   "source": [
    "test_pred = pd.read_csv(\"mysubmission2.txt\")[\"Sale_Price\"].values\n",
    "np.sqrt(np.mean((np.log(test[\"Sale_Price\"].values) - np.log(test_pred))**2))"
   ]
  },
  {
   "cell_type": "code",
   "execution_count": 193,
   "metadata": {},
   "outputs": [],
   "source": [
    "test.to_csv(\"test.csv\")\n",
    "train.to_csv(\"train.csv\")"
   ]
  },
  {
   "cell_type": "code",
   "execution_count": 251,
   "metadata": {},
   "outputs": [],
   "source": [
    "bad_cols = ['PID', 'Garage_Yr_Blt', 'Street', 'Utilities', 'Condition_2', 'Roof_Matl', 'Pool_QC', 'Misc_Feature', 'Low_Qual_Fin_SF', 'Pool_Area', 'Longitude', 'Latitude', 'Alley', 'Land_Contour', 'Land_Slope',\n",
    "            'Exter_Cond', 'Bsmt_Half_Bath', 'Three_season_porch', 'MS_Zoning', \"Misc_Val\", \"Kitchen_AbvGr\", \"Pool_Area\", \"Garage_Cond\"]\n",
    "\n",
    "limit_cols = [\"Lot_Frontage\", \"Lot_Area\", \"Mas_Vnr_Area\", \"BsmtFin_SF_2\", \"Bsmt_Unf_SF\", \"Total_Bsmt_SF\", \"Second_Flr_SF\", 'First_Flr_SF', \"Gr_Liv_Area\", \"Garage_Area\", \"Wood_Deck_SF\", \"Open_Porch_SF\", \"Enclosed_Porch\", \"Screen_Porch\"]\n",
    "\n",
    "\n",
    "def numeric_convert(frame, model):\n",
    "    # We may want to normalize data as well\n",
    "    if model == 'LR':\n",
    "        frame = frame.drop(columns=bad_cols)\n",
    "    elif model == 'RF':\n",
    "        frame = frame.drop(columns=['PID', 'Garage_Yr_Blt'])\n",
    "\n",
    "    numeric_data = pd.DataFrame()\n",
    "\n",
    "    category_cols = []\n",
    "    for col in frame:\n",
    "        try:\n",
    "            numeric_data[col] = pd.to_numeric(frame[col])\n",
    "            if col in limit_cols:\n",
    "                numeric_data[col] = winsorize(frame[col], (0, .05))\n",
    "        except:\n",
    "            category_cols.append(col)\n",
    "\n",
    "    category_cols = np.array(category_cols)\n",
    "    categorical_data = pd.get_dummies(frame[category_cols])\n",
    "\n",
    "    final_data = pd.concat([numeric_data, categorical_data], axis=1)\n",
    "\n",
    "    return final_data\n",
    "\n"
   ]
  },
  {
   "cell_type": "code",
   "execution_count": 287,
   "metadata": {},
   "outputs": [
    {
     "name": "stdout",
     "output_type": "stream",
     "text": [
      "Split 1 RMSE: 0.12319327197345147, runtime: 0.007176500000241504\n",
      "Split 2 RMSE: 0.11493195190488027, runtime: 0.00785120000000461\n",
      "Split 3 RMSE: 0.12447361459404291, runtime: 0.0071770000004107715\n",
      "Split 4 RMSE: 0.13144664146969853, runtime: 0.00824549999924784\n",
      "Split 5 RMSE: 0.12960217583049802, runtime: 0.008532800000466523\n",
      "Split 6 RMSE: 0.1231901352061848, runtime: 0.009077499999875727\n",
      "Split 7 RMSE: 0.11494398216966434, runtime: 0.00967930000024353\n",
      "Split 8 RMSE: 0.12443850786993514, runtime: 0.00717259999964881\n",
      "Split 9 RMSE: 0.13144224549599995, runtime: 0.009057899999788788\n",
      "Split 10 RMSE: 0.12960418806089813, runtime: 0.007639899999958288\n"
     ]
    }
   ],
   "source": [
    "lr_rmse = []\n",
    "lr_times = []\n",
    "lr_models = []\n",
    "lr_lambda = []\n",
    "lambdas = np.exp(np.linspace(-1,-8,80))\n",
    "for i in range(0,10):\n",
    "\n",
    "    test_indices = testID.iloc[:,i]\n",
    "\n",
    "    test = df.iloc[test_indices]\n",
    "    train = df.drop(test_indices)\n",
    "\n",
    "    xtrain_frame_LR = numeric_convert(train.iloc[:,:-1], \"LR\")\n",
    "    xtrain_LR = xtrain_frame_LR.to_numpy()\n",
    "    ytrain = np.log(train.iloc[:,-1]).to_numpy()\n",
    "\n",
    "    xtest_frame_LR = numeric_convert(test.iloc[:,:-1], \"LR\")\n",
    "    xtest_LR = xtest_frame_LR.reindex(\n",
    "        columns=xtrain_frame_LR.columns, fill_value=0).values\n",
    "    ytest = np.log(test.iloc[:,-1]).to_numpy()\n",
    "\n",
    "    lr = Ridge(alpha=5, max_iter=4000, positive=False, fit_intercept=True)\n",
    "\n",
    "    start = timeit.default_timer()\n",
    "    lr.fit(xtrain_LR, ytrain)\n",
    "    stop = timeit.default_timer()\n",
    "    \n",
    "    yhat = lr.predict(xtest_LR)\n",
    "    lr_models.append(lr)\n",
    "    lr_times.append(stop - start)\n",
    "    lr_rmse.append(np.sqrt(np.mean((yhat - ytest)**2)))\n",
    "    print(f'Split {i+1} RMSE: {lr_rmse[-1]}, runtime: {lr_times[-1]}')"
   ]
  },
  {
   "cell_type": "code",
   "execution_count": 282,
   "metadata": {},
   "outputs": [
    {
     "name": "stdout",
     "output_type": "stream",
     "text": [
      "Split 1 RMSE: 0.12348903677598773, runtime: 10.316630199999963\n",
      "Split 2 RMSE: 0.1179244970746627, runtime: 10.428963600000316\n",
      "Split 3 RMSE: 0.12467532230854074, runtime: 10.131811899999775\n",
      "Split 4 RMSE: 0.1344456472040848, runtime: 10.132989699999598\n",
      "Split 5 RMSE: 0.13176621364142727, runtime: 10.102658599999813\n",
      "Split 6 RMSE: 0.12351107763707757, runtime: 10.108520599999792\n",
      "Split 7 RMSE: 0.11759130217922187, runtime: 10.131380499999977\n",
      "Split 8 RMSE: 0.12180940755571291, runtime: 10.133308299999953\n",
      "Split 9 RMSE: 0.1291808169632984, runtime: 10.141578399999162\n",
      "Split 10 RMSE: 0.13225866189047367, runtime: 10.386503700000503\n"
     ]
    }
   ],
   "source": [
    "\n",
    "lr_rmse = []\n",
    "lr_times = []\n",
    "lr_models = []\n",
    "lr_lambda = []\n",
    "lambdas = np.exp(np.linspace(-1, -8, 80))\n",
    "for i in range(0, 10):\n",
    "\n",
    "    test_indices = testID.iloc[:, i]\n",
    "\n",
    "    test = df.iloc[test_indices]\n",
    "    train = df.drop(test_indices)\n",
    "\n",
    "    xtrain_frame_LR = numeric_convert(train.iloc[:, :-1], \"RF\")\n",
    "    xtrain_LR = xtrain_frame_LR.to_numpy()\n",
    "    ytrain = np.log(train.iloc[:, -1]).to_numpy()\n",
    "\n",
    "    xtest_frame_LR = numeric_convert(test.iloc[:, :-1], \"RF\")\n",
    "    xtest_LR = xtest_frame_LR.reindex(\n",
    "        columns=xtrain_frame_LR.columns, fill_value=0).values\n",
    "    ytest = np.log(test.iloc[:, -1]).to_numpy()\n",
    "\n",
    "    lr = GradientBoostingRegressor(n_estimators=500, random_state=1, max_depth=4)\n",
    "\n",
    "    start = timeit.default_timer()\n",
    "    lr.fit(xtrain_LR, ytrain)\n",
    "    stop = timeit.default_timer()\n",
    "\n",
    "    yhat = lr.predict(xtest_LR)\n",
    "    lr_models.append(lr)\n",
    "    lr_times.append(stop - start)\n",
    "    lr_rmse.append(np.sqrt(np.mean((yhat - ytest)**2)))\n",
    "    print(f'Split {i+1} RMSE: {lr_rmse[-1]}, runtime: {lr_times[-1]}')\n"
   ]
  },
  {
   "cell_type": "code",
   "execution_count": null,
   "metadata": {},
   "outputs": [],
   "source": []
  }
 ],
 "metadata": {
  "kernelspec": {
   "display_name": "Python 3.9.7 ('base')",
   "language": "python",
   "name": "python3"
  },
  "language_info": {
   "codemirror_mode": {
    "name": "ipython",
    "version": 3
   },
   "file_extension": ".py",
   "mimetype": "text/x-python",
   "name": "python",
   "nbconvert_exporter": "python",
   "pygments_lexer": "ipython3",
   "version": "3.9.7"
  },
  "vscode": {
   "interpreter": {
    "hash": "5f4d3a88f07247b0a74ebcb639a7867f668f93ac681fc6eec015e64f8cbac171"
   }
  }
 },
 "nbformat": 4,
 "nbformat_minor": 2
}
