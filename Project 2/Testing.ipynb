{
 "cells": [
  {
   "cell_type": "code",
   "execution_count": 130,
   "metadata": {
    "collapsed": true
   },
   "outputs": [],
   "source": [
    "import pandas as pd\n",
    "from dateutil.relativedelta import relativedelta\n",
    "from sklearn.ensemble import GradientBoostingRegressor\n",
    "import numpy as np"
   ]
  },
  {
   "cell_type": "code",
   "execution_count": 103,
   "outputs": [],
   "source": [
    "# read raw data and extract date column\n",
    "train_raw = pd.read_csv('https://liangfgithub.github.io/Data/train.csv.zip')\n",
    "\n",
    "# training data from 2010-02 to 2011-02\n",
    "start_date = pd.to_datetime('2010-02-01')\n",
    "end_date = start_date + relativedelta(months=13)\n",
    "\n",
    "# split dataset into training / testing\n",
    "train_ids = (pd.to_datetime(train_raw['Date']) >= start_date) & (pd.to_datetime(train_raw['Date']) < end_date)\n",
    "train = train_raw.loc[train_ids]\n",
    "test = train_raw.loc[~train_ids]\n",
    "\n",
    "# create the initial training data\n",
    "train.to_csv('train_ini.csv')\n",
    "\n",
    "# create test.csv\n",
    "# removes weekly sales\n",
    "test = test.drop(columns=['Weekly_Sales'])\n",
    "test.to_csv('test.csv')\n",
    "\n",
    "# create 10 time-series\n",
    "num_folds = 10\n",
    "\n",
    "# month 1 --> 2011-03, and month 20 --> 2012-10.\n",
    "# Fold 1 : month 1 & month 2, Fold 2 : month 3 & month 4 ...\n",
    "for i in range(num_folds):\n",
    "    # filter fold for dates\n",
    "    start_date = pd.to_datetime('2011-03-01') + relativedelta(months = 2 * i)\n",
    "    end_date = pd.to_datetime('2011-05-01') + relativedelta(months = 2 * i)\n",
    "    test_ids = (pd.to_datetime(test['Date']) >= start_date) & (pd.to_datetime(test['Date']) < end_date)\n",
    "    test_fold = test.loc[test_ids]\n",
    "\n",
    "    # write fold to a file\n",
    "    test_fold.to_csv('fold_{}.csv'.format(i + 1))"
   ],
   "metadata": {
    "collapsed": false
   }
  },
  {
   "cell_type": "code",
   "execution_count": 151,
   "outputs": [
    {
     "data": {
      "text/plain": "GradientBoostingRegressor()"
     },
     "execution_count": 151,
     "metadata": {},
     "output_type": "execute_result"
    }
   ],
   "source": [
    "train_ini = pd.read_csv(\"train_ini.csv\",parse_dates=['Date'])\n",
    "dates = train_ini['Date'];\n",
    "\n",
    "train_ini['Date'] = (dates - dates.min()).dt.days\n",
    "train_ini['IsHoliday'].apply(pd.to_numeric)\n",
    "\n",
    "xdata = train_ini[['Store', 'Dept', 'Date', 'IsHoliday']].values\n",
    "ydata = train_ini['Weekly_Sales'].values\n",
    "\n",
    "boost = GradientBoostingRegressor(n_estimators=100)\n",
    "boost.fit(xdata,ydata)"
   ],
   "metadata": {
    "collapsed": false
   }
  },
  {
   "cell_type": "code",
   "execution_count": 179,
   "outputs": [],
   "source": [
    "fold1 = pd.read_csv(\"fold_1.csv\")"
   ],
   "metadata": {
    "collapsed": false
   }
  },
  {
   "cell_type": "code",
   "execution_count": 191,
   "outputs": [
    {
     "data": {
      "text/plain": "       Unnamed: 0  Store  Dept        Date  IsHoliday\n0              56      1     1  2011-03-04      False\n1              57      1     1  2011-03-11      False\n2              58      1     1  2011-03-18      False\n3              59      1     1  2011-03-25      False\n4              60      1     1  2011-04-01      False\n...           ...    ...   ...         ...        ...\n26554      421487     45    98  2011-04-01      False\n26555      421488     45    98  2011-04-08      False\n26556      421489     45    98  2011-04-15      False\n26557      421490     45    98  2011-04-22      False\n26558      421491     45    98  2011-04-29      False\n\n[26559 rows x 5 columns]",
      "text/html": "<div>\n<style scoped>\n    .dataframe tbody tr th:only-of-type {\n        vertical-align: middle;\n    }\n\n    .dataframe tbody tr th {\n        vertical-align: top;\n    }\n\n    .dataframe thead th {\n        text-align: right;\n    }\n</style>\n<table border=\"1\" class=\"dataframe\">\n  <thead>\n    <tr style=\"text-align: right;\">\n      <th></th>\n      <th>Unnamed: 0</th>\n      <th>Store</th>\n      <th>Dept</th>\n      <th>Date</th>\n      <th>IsHoliday</th>\n    </tr>\n  </thead>\n  <tbody>\n    <tr>\n      <th>0</th>\n      <td>56</td>\n      <td>1</td>\n      <td>1</td>\n      <td>2011-03-04</td>\n      <td>False</td>\n    </tr>\n    <tr>\n      <th>1</th>\n      <td>57</td>\n      <td>1</td>\n      <td>1</td>\n      <td>2011-03-11</td>\n      <td>False</td>\n    </tr>\n    <tr>\n      <th>2</th>\n      <td>58</td>\n      <td>1</td>\n      <td>1</td>\n      <td>2011-03-18</td>\n      <td>False</td>\n    </tr>\n    <tr>\n      <th>3</th>\n      <td>59</td>\n      <td>1</td>\n      <td>1</td>\n      <td>2011-03-25</td>\n      <td>False</td>\n    </tr>\n    <tr>\n      <th>4</th>\n      <td>60</td>\n      <td>1</td>\n      <td>1</td>\n      <td>2011-04-01</td>\n      <td>False</td>\n    </tr>\n    <tr>\n      <th>...</th>\n      <td>...</td>\n      <td>...</td>\n      <td>...</td>\n      <td>...</td>\n      <td>...</td>\n    </tr>\n    <tr>\n      <th>26554</th>\n      <td>421487</td>\n      <td>45</td>\n      <td>98</td>\n      <td>2011-04-01</td>\n      <td>False</td>\n    </tr>\n    <tr>\n      <th>26555</th>\n      <td>421488</td>\n      <td>45</td>\n      <td>98</td>\n      <td>2011-04-08</td>\n      <td>False</td>\n    </tr>\n    <tr>\n      <th>26556</th>\n      <td>421489</td>\n      <td>45</td>\n      <td>98</td>\n      <td>2011-04-15</td>\n      <td>False</td>\n    </tr>\n    <tr>\n      <th>26557</th>\n      <td>421490</td>\n      <td>45</td>\n      <td>98</td>\n      <td>2011-04-22</td>\n      <td>False</td>\n    </tr>\n    <tr>\n      <th>26558</th>\n      <td>421491</td>\n      <td>45</td>\n      <td>98</td>\n      <td>2011-04-29</td>\n      <td>False</td>\n    </tr>\n  </tbody>\n</table>\n<p>26559 rows × 5 columns</p>\n</div>"
     },
     "execution_count": 191,
     "metadata": {},
     "output_type": "execute_result"
    }
   ],
   "source": [
    "fold1"
   ],
   "metadata": {
    "collapsed": false
   }
  },
  {
   "cell_type": "code",
   "execution_count": 199,
   "outputs": [
    {
     "data": {
      "text/plain": "       Store  Dept  IsHoliday\n0          1     1      False\n1          1     1       True\n2          1     1      False\n3          1     1      False\n4          1     1      False\n...      ...   ...        ...\n26554     45    98      False\n26555     45    98      False\n26556     45    98      False\n26557     45    98      False\n26558     45    98      False\n\n[190674 rows x 3 columns]",
      "text/html": "<div>\n<style scoped>\n    .dataframe tbody tr th:only-of-type {\n        vertical-align: middle;\n    }\n\n    .dataframe tbody tr th {\n        vertical-align: top;\n    }\n\n    .dataframe thead th {\n        text-align: right;\n    }\n</style>\n<table border=\"1\" class=\"dataframe\">\n  <thead>\n    <tr style=\"text-align: right;\">\n      <th></th>\n      <th>Store</th>\n      <th>Dept</th>\n      <th>IsHoliday</th>\n    </tr>\n  </thead>\n  <tbody>\n    <tr>\n      <th>0</th>\n      <td>1</td>\n      <td>1</td>\n      <td>False</td>\n    </tr>\n    <tr>\n      <th>1</th>\n      <td>1</td>\n      <td>1</td>\n      <td>True</td>\n    </tr>\n    <tr>\n      <th>2</th>\n      <td>1</td>\n      <td>1</td>\n      <td>False</td>\n    </tr>\n    <tr>\n      <th>3</th>\n      <td>1</td>\n      <td>1</td>\n      <td>False</td>\n    </tr>\n    <tr>\n      <th>4</th>\n      <td>1</td>\n      <td>1</td>\n      <td>False</td>\n    </tr>\n    <tr>\n      <th>...</th>\n      <td>...</td>\n      <td>...</td>\n      <td>...</td>\n    </tr>\n    <tr>\n      <th>26554</th>\n      <td>45</td>\n      <td>98</td>\n      <td>False</td>\n    </tr>\n    <tr>\n      <th>26555</th>\n      <td>45</td>\n      <td>98</td>\n      <td>False</td>\n    </tr>\n    <tr>\n      <th>26556</th>\n      <td>45</td>\n      <td>98</td>\n      <td>False</td>\n    </tr>\n    <tr>\n      <th>26557</th>\n      <td>45</td>\n      <td>98</td>\n      <td>False</td>\n    </tr>\n    <tr>\n      <th>26558</th>\n      <td>45</td>\n      <td>98</td>\n      <td>False</td>\n    </tr>\n  </tbody>\n</table>\n<p>190674 rows × 3 columns</p>\n</div>"
     },
     "execution_count": 199,
     "metadata": {},
     "output_type": "execute_result"
    }
   ],
   "source": [
    "data_cols = ['Store', 'Dept', 'IsHoliday']\n",
    "pd.concat([train_ini[data_cols],fold1[data_cols]])\n"
   ],
   "metadata": {
    "collapsed": false
   }
  },
  {
   "cell_type": "code",
   "execution_count": 201,
   "outputs": [
    {
     "data": {
      "text/plain": "        Date  Store  Dept  IsHoliday\n0          0      1     1      False\n1          7      1     1       True\n2         14      1     1      False\n3         21      1     1      False\n4         28      1     1      False\n...      ...    ...   ...        ...\n164110   357     45    98      False\n164111   364     45    98      False\n164112   371     45    98       True\n164113   378     45    98      False\n164114   385     45    98      False\n\n[164115 rows x 4 columns]",
      "text/html": "<div>\n<style scoped>\n    .dataframe tbody tr th:only-of-type {\n        vertical-align: middle;\n    }\n\n    .dataframe tbody tr th {\n        vertical-align: top;\n    }\n\n    .dataframe thead th {\n        text-align: right;\n    }\n</style>\n<table border=\"1\" class=\"dataframe\">\n  <thead>\n    <tr style=\"text-align: right;\">\n      <th></th>\n      <th>Date</th>\n      <th>Store</th>\n      <th>Dept</th>\n      <th>IsHoliday</th>\n    </tr>\n  </thead>\n  <tbody>\n    <tr>\n      <th>0</th>\n      <td>0</td>\n      <td>1</td>\n      <td>1</td>\n      <td>False</td>\n    </tr>\n    <tr>\n      <th>1</th>\n      <td>7</td>\n      <td>1</td>\n      <td>1</td>\n      <td>True</td>\n    </tr>\n    <tr>\n      <th>2</th>\n      <td>14</td>\n      <td>1</td>\n      <td>1</td>\n      <td>False</td>\n    </tr>\n    <tr>\n      <th>3</th>\n      <td>21</td>\n      <td>1</td>\n      <td>1</td>\n      <td>False</td>\n    </tr>\n    <tr>\n      <th>4</th>\n      <td>28</td>\n      <td>1</td>\n      <td>1</td>\n      <td>False</td>\n    </tr>\n    <tr>\n      <th>...</th>\n      <td>...</td>\n      <td>...</td>\n      <td>...</td>\n      <td>...</td>\n    </tr>\n    <tr>\n      <th>164110</th>\n      <td>357</td>\n      <td>45</td>\n      <td>98</td>\n      <td>False</td>\n    </tr>\n    <tr>\n      <th>164111</th>\n      <td>364</td>\n      <td>45</td>\n      <td>98</td>\n      <td>False</td>\n    </tr>\n    <tr>\n      <th>164112</th>\n      <td>371</td>\n      <td>45</td>\n      <td>98</td>\n      <td>True</td>\n    </tr>\n    <tr>\n      <th>164113</th>\n      <td>378</td>\n      <td>45</td>\n      <td>98</td>\n      <td>False</td>\n    </tr>\n    <tr>\n      <th>164114</th>\n      <td>385</td>\n      <td>45</td>\n      <td>98</td>\n      <td>False</td>\n    </tr>\n  </tbody>\n</table>\n<p>164115 rows × 4 columns</p>\n</div>"
     },
     "execution_count": 201,
     "metadata": {},
     "output_type": "execute_result"
    }
   ],
   "source": [
    "def mypredict(train, next_fold, t):\n",
    "\n",
    "    tmp = pd.DataFrame()\n",
    "\n",
    "    data_cols = ['Store', 'Dept', 'IsHoliday', 'Weekly_Sales']\n",
    "    x_cols = ['Store', 'Dept', 'IsHoliday']\n",
    "\n",
    "    if isinstance(next_fold, type(None)):\n",
    "        dates = train['Date']\n",
    "        tmp['Date'] = (dates - dates.min())\n",
    "        tmp[data_cols] = train[data_cols]\n",
    "\n",
    "    else:\n",
    "        next_fold = next_fold[data_cols]\n",
    "        tmp = pd.concat([tmp,next_fold])\n",
    "\n",
    "    xtrain = tmp[x_cols]\n",
    "    ytrain = tmp['Weekly_Sales']\n",
    "\n",
    "    boost = GradientBoostingRegressor()\n",
    "\n",
    "    boost.fit(xtrain, ytrain)\n",
    "\n",
    "\n",
    "    return tmp\n",
    "\n",
    "\n",
    "mypredict(train_ini, None, 0)\n",
    "\n",
    "\n"
   ],
   "metadata": {
    "collapsed": false
   }
  },
  {
   "cell_type": "code",
   "execution_count": null,
   "outputs": [],
   "source": [
    "train = pd.read_csv('train_ini.csv', parse_dates=['Date'])\n",
    "test = pd.read_csv('test.csv', parse_dates=['Date'])\n",
    "\n",
    "# save weighed mean absolute error WMAE\n",
    "n_folds = 10\n",
    "next_fold = None\n",
    "wae = []\n",
    "\n",
    "# time-series prediction\n",
    "for t in range(1, n_folds+1):\n",
    "    print(f'Fold{t}...')\n",
    "\n",
    "    # *** THIS IS YOUR PREDICTION FUNCTION ***\n",
    "    test_pred = mypredict(train, next_fold, t)\n",
    "\n",
    "    # Load fold file\n",
    "    # You should add this to your training data in the next call to mypredict()\n",
    "    fold_file = 'fold_{t}.csv'.format(t=t)\n",
    "    next_fold = pd.read_csv(fold_file, parse_dates=['Date'])\n",
    "\n",
    "    # extract predictions matching up to the current fold\n",
    "    scoring_df = next_fold.merge(test_pred, on=['Date', 'Store', 'Dept'], how='left')\n",
    "\n",
    "    # extract weights and convert to numpy arrays for wae calculation\n",
    "    weights = scoring_df['IsHoliday'].apply(lambda is_holiday:5 if is_holiday else 1).to_numpy()\n",
    "    actuals = scoring_df['Weekly_Sales'].to_numpy()\n",
    "    preds = scoring_df['Weekly_Pred'].fillna(0).to_numpy()\n",
    "\n",
    "    wae.append((np.sum(weights * np.abs(actuals - preds)) / np.sum(weights)).item())\n",
    "\n",
    "print(wae)\n",
    "print(sum(wae)/len(wae))"
   ],
   "metadata": {
    "collapsed": false
   }
  }
 ],
 "metadata": {
  "kernelspec": {
   "display_name": "Python 3",
   "language": "python",
   "name": "python3"
  },
  "language_info": {
   "codemirror_mode": {
    "name": "ipython",
    "version": 2
   },
   "file_extension": ".py",
   "mimetype": "text/x-python",
   "name": "python",
   "nbconvert_exporter": "python",
   "pygments_lexer": "ipython2",
   "version": "2.7.6"
  }
 },
 "nbformat": 4,
 "nbformat_minor": 0
}
